{
 "cells": [
  {
   "cell_type": "code",
   "execution_count": 1,
   "metadata": {},
   "outputs": [],
   "source": [
    "import numpy as np\n",
    "import matplotlib.pyplot as plt"
   ]
  },
  {
   "cell_type": "code",
   "execution_count": 16,
   "metadata": {},
   "outputs": [
    {
     "data": {
      "text/plain": [
       "<matplotlib.collections.PathCollection at 0x11ceeb908>"
      ]
     },
     "execution_count": 16,
     "metadata": {},
     "output_type": "execute_result"
    },
    {
     "data": {
      "image/png": "[encoded data removed]",
      "text/plain": [
       "<Figure size 432x288 with 1 Axes>"
      ]
     },
     "metadata": {
      "needs_background": "light"
     },
     "output_type": "display_data"
    }
   ],
   "source": [
    "X = []\n",
    "with open(\"dataset_4.0.txt\", \"r\") as file:\n",
    "    for line in file.readlines():\n",
    "        X.append(line.strip().split(\" \"))\n",
    "X = np.array(X, dtype=np.float32)\n",
    "plt.scatter(X[:, 0], X[:, 1])"
   ]
  },
  {
   "cell_type": "code",
   "execution_count": 67,
   "metadata": {},
   "outputs": [],
   "source": [
    "k = 3\n",
    "iters = 50\n",
    "alpha = np.ones(3) / 3\n",
    "mu = np.array([X[5], X[21], X[26]])\n",
    "sigma = np.array([np.eye(2) * 0.1, np.eye(2) * 0.1, np.eye(2) * 0.1])\n",
    "gaussian = lambda _X, _mu, _sigma: np.exp(-0.5 * (_X - _mu).T.dot(np.linalg.inv(_sigma)).dot(_X - _mu)) / ((2 * np.pi) ** (_X.shape[0] / 2) * (np.linalg.det(_sigma) ** 0.5))"
   ]
  },
  {
   "cell_type": "code",
   "execution_count": 68,
   "metadata": {},
   "outputs": [
    {
     "data": {
      "text/plain": [
       "<matplotlib.collections.PathCollection at 0x11d404c88>"
      ]
     },
     "execution_count": 68,
     "metadata": {},
     "output_type": "execute_result"
    },
    {
     "data": {
      "image/png": "[encoded data removed]",
      "text/plain": [
       "<Figure size 432x288 with 1 Axes>"
      ]
     },
     "metadata": {
      "needs_background": "light"
     },
     "output_type": "display_data"
    }
   ],
   "source": [
    "gamma = np.zeros((X.shape[0], k), dtype=np.float32)\n",
    "for _ in range(iters):\n",
    "    for j in range(X.shape[0]):\n",
    "        for i in range(k):\n",
    "            gamma[j, i] = alpha[i] * gaussian(X[j], mu[i], sigma[i])\n",
    "        gamma[j] = gamma[j] / np.sum(gamma[j])\n",
    "    for i in range(k):\n",
    "        mu[i] = np.sum(gamma[:, i] * X.T, axis=1) / np.sum(gamma[:, i])\n",
    "        sigma[i] = (gamma[:, i] * (X - mu[i]).T).dot(X - mu[i]) / np.sum(gamma[:, i])\n",
    "        alpha[i] = np.sum(gamma[:, i]) / X.shape[0]\n",
    "\n",
    "C = [[], [], []]\n",
    "for j in range(X.shape[0]):\n",
    "    C[np.argmax([gaussian(X[j], mu[i], sigma[i]) for i in range(k)])].append(j)\n",
    "plt.scatter(X[C[0], 0], X[C[0], 1], marker='o')\n",
    "plt.scatter(X[C[1], 0], X[C[1], 1], marker='^')\n",
    "plt.scatter(X[C[2], 0], X[C[2], 1], marker='s')"
   ]
  }
 ],
 "metadata": {
  "kernelspec": {
   "display_name": "Python 3",
   "language": "python",
   "name": "python3"
  },
  "language_info": {
   "codemirror_mode": {
    "name": "ipython",
    "version": 3
   },
   "file_extension": ".py",
   "mimetype": "text/x-python",
   "name": "python",
   "nbconvert_exporter": "python",
   "pygments_lexer": "ipython3",
   "version": "3.6.6"
  }
 },
 "nbformat": 4,
 "nbformat_minor": 2
}
